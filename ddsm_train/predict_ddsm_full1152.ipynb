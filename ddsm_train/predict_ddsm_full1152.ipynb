{
 "cells": [
  {
   "cell_type": "code",
   "execution_count": null,
   "metadata": {},
   "outputs": [],
   "source": [
    "import os\n",
    "\n",
    "import keras\n",
    "import numpy as np\n",
    "\n",
    "from dm_image import read_img_for_pred\n"
   ]
  },
  {
   "cell_type": "code",
   "execution_count": null,
   "metadata": {},
   "outputs": [],
   "source": [
    "image_path = \"data/curated_breast_imaging_ddsm/Combined_full_images/full_test_1152x896/mass/P_00016_LEFT_CC_1.png\"\n",
    "resume_from = \"saved_model/ddsm_full1152/resnet_1152x896_prt_addtop1_best.h5\"\n",
    "rescale_factor = 0.003891\n",
    "featurewise_mean = 52.18\n",
    "class_names = [\"neg\", \"calc\", \"mass\"]\n"
   ]
  },
  {
   "cell_type": "markdown",
   "metadata": {},
   "source": [
    "Load the model using `keras.load_model`. Unlike `keras.model.load_weights`, this function loads the model structure along with its weights, so that we do not need to re-construct the model manually."
   ]
  },
  {
   "cell_type": "code",
   "execution_count": null,
   "metadata": {},
   "outputs": [],
   "source": [
    "model = keras.load_model(resume_from)\n"
   ]
  },
  {
   "cell_type": "markdown",
   "metadata": {},
   "source": [
    "We will use the function `read_img_for_pred` pre-defined by the author to load a PNG image."
   ]
  },
  {
   "cell_type": "code",
   "execution_count": null,
   "metadata": {},
   "outputs": [],
   "source": [
    "image = read_img_for_pred(\n",
    "    image_path,\n",
    "    equalize_hist=False,\n",
    "    data_format=\"default\",\n",
    "    dup_3_channels=True,\n",
    "    target_size=(1152, 896),\n",
    "    target_scale=None,\n",
    "    gs_255=None,\n",
    "    rescale_factor=rescale_factor\n",
    ")\n",
    "print \"On reading\", image.mean(), \"+-\", image.std()\n"
   ]
  },
  {
   "cell_type": "markdown",
   "metadata": {},
   "source": [
    "To be confined with training procedure, the input data `image` should be centered by `featurewise_mean`."
   ]
  },
  {
   "cell_type": "code",
   "execution_count": null,
   "metadata": {},
   "outputs": [],
   "source": [
    "image -= featurewise_mean\n",
    "print \"On centering\", image.mean(), \"+-\", image.std()\n"
   ]
  },
  {
   "cell_type": "markdown",
   "metadata": {},
   "source": [
    "`keras.Model.predict` accepts a batch of images as its inputs. So we will first convert the image to a batch of shape (1, 1152, 896, 3), get the prediciton of the probabilities and convert the probabilities back to a single array."
   ]
  },
  {
   "cell_type": "code",
   "execution_count": null,
   "metadata": {},
   "outputs": [],
   "source": [
    "images = image[None, ...]\n",
    "probs = model.predict(images)\n",
    "prob = probs[0]\n",
    "class_ = np.argmax(prob)\n",
    "print class_\n",
    "print class_names[class_]\n"
   ]
  }
 ],
 "metadata": {
  "language_info": {
   "codemirror_mode": {
    "name": "ipython",
    "version": 3
   },
   "file_extension": ".py",
   "mimetype": "text/x-python",
   "name": "python",
   "nbconvert_exporter": "python",
   "pygments_lexer": "ipython3",
   "version": 3
  },
  "orig_nbformat": 2
 },
 "nbformat": 4,
 "nbformat_minor": 2
}